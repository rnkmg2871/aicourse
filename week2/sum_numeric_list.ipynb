{
  "nbformat": 4,
  "nbformat_minor": 0,
  "metadata": {
    "colab": {
      "provenance": [],
      "authorship_tag": "ABX9TyNYAwtCCuXjqlssSOR7aq04",
      "include_colab_link": true
    },
    "kernelspec": {
      "name": "python3",
      "display_name": "Python 3"
    },
    "language_info": {
      "name": "python"
    }
  },
  "cells": [
    {
      "cell_type": "markdown",
      "metadata": {
        "id": "view-in-github",
        "colab_type": "text"
      },
      "source": [
        "<a href=\"https://colab.research.google.com/github/rnkmg2871/aicourse/blob/main/sum_numeric_list.ipynb\" target=\"_parent\"><img src=\"https://colab.research.google.com/assets/colab-badge.svg\" alt=\"Open In Colab\"/></a>"
      ]
    },
    {
      "cell_type": "code",
      "execution_count": null,
      "metadata": {
        "colab": {
          "base_uri": "https://localhost:8080/"
        },
        "id": "wrTukRX4bHIS",
        "outputId": "24cdaefd-f513-42ec-c9b3-62f7c9ee7698"
      },
      "outputs": [
        {
          "output_type": "stream",
          "name": "stdout",
          "text": [
            "リスト1の合計: 15\n",
            "無効な値が含まれています：数値でない値\n",
            "無効な値が含まれています：数値でない値\n",
            "リスト2の合計: 9\n"
          ]
        }
      ],
      "source": [
        "def sum_numeric_list(data):\n",
        "    total = 0\n",
        "    i = 0\n",
        "    while i < len(data):\n",
        "        try:\n",
        "          total += data[i]\n",
        "        except TypeError:\n",
        "          print(\"無効な値が含まれています：数値でない値\")\n",
        "        finally:\n",
        "          i += 1\n",
        "         # ここに処理を記述\n",
        "\n",
        "    return total\n",
        "\n",
        "test_list1 = [1, 2, 3, 4, 5]\n",
        "test_list2 = [1, \"hello\", 3, \"world\", 5]\n",
        "print(f\"リスト1の合計: {sum_numeric_list(test_list1)}\")\n",
        "print(f\"リスト2の合計: {sum_numeric_list(test_list2)}\")"
      ]
    },
    {
      "cell_type": "code",
      "source": [],
      "metadata": {
        "id": "DLq2dlZtl8E6"
      },
      "execution_count": null,
      "outputs": []
    }
  ]
}
