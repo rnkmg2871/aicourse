{
  "nbformat": 4,
  "nbformat_minor": 0,
  "metadata": {
    "colab": {
      "provenance": [],
      "include_colab_link": true
    },
    "kernelspec": {
      "name": "python3",
      "display_name": "Python 3"
    },
    "language_info": {
      "name": "python"
    }
  },
  "cells": [
    {
      "cell_type": "markdown",
      "metadata": {
        "id": "view-in-github",
        "colab_type": "text"
      },
      "source": [
        "<a href=\"https://colab.research.google.com/github/rnkmg2871/aicourse/blob/main/01_standardization.ipynb\" target=\"_parent\"><img src=\"https://colab.research.google.com/assets/colab-badge.svg\" alt=\"Open In Colab\"/></a>"
      ]
    },
    {
      "cell_type": "code",
      "execution_count": null,
      "metadata": {
        "colab": {
          "base_uri": "https://localhost:8080/"
        },
        "id": "vJqOenyR4oPo",
        "outputId": "c1210755-ae25-482b-e0f2-9e1d949ca539"
      },
      "outputs": [
        {
          "output_type": "stream",
          "name": "stdout",
          "text": [
            "元の2次元データ:\n",
            " [[ 1 10]\n",
            " [ 2 20]\n",
            " [ 3 30]]\n",
            "標準化された2次元データ（列ごと）:\n",
            " [[-1.22474487 -1.22474487]\n",
            " [ 0.          0.        ]\n",
            " [ 1.22474487  1.22474487]]\n"
          ]
        }
      ],
      "source": [
        "import numpy as np\n",
        "\n",
        "data_2d = np.array([[1, 10],\n",
        "                    [2, 20],\n",
        "                    [3, 30]])\n",
        "\n",
        "### ここに各列ごとに標準化する処理を記述してください ###\n",
        "standardized_data_2d = (data_2d - np.mean(data_2d, axis=0)) / np.std(data_2d, axis=0)\n",
        "\n",
        "print(\"元の2次元データ:\\n\", data_2d)\n",
        "print(\"標準化された2次元データ（列ごと）:\\n\", standardized_data_2d)"
      ]
    },
    {
      "cell_type": "code",
      "source": [],
      "metadata": {
        "id": "WuNi8CpG-6dr"
      },
      "execution_count": null,
      "outputs": []
    }
  ]
}