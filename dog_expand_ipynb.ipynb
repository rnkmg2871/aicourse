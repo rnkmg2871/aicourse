{
  "nbformat": 4,
  "nbformat_minor": 0,
  "metadata": {
    "colab": {
      "provenance": [],
      "authorship_tag": "ABX9TyNWawk4xRcToULIuysHcqXE",
      "include_colab_link": true
    },
    "kernelspec": {
      "name": "python3",
      "display_name": "Python 3"
    },
    "language_info": {
      "name": "python"
    }
  },
  "cells": [
    {
      "cell_type": "markdown",
      "metadata": {
        "id": "view-in-github",
        "colab_type": "text"
      },
      "source": [
        "<a href=\"https://colab.research.google.com/github/rnkmg2871/aicourse/blob/main/dog_expand_ipynb.ipynb\" target=\"_parent\"><img src=\"https://colab.research.google.com/assets/colab-badge.svg\" alt=\"Open In Colab\"/></a>"
      ]
    },
    {
      "cell_type": "code",
      "execution_count": null,
      "metadata": {
        "colab": {
          "base_uri": "https://localhost:8080/"
        },
        "id": "7482IdK6LL5z",
        "outputId": "c1762db0-336c-46ff-ab21-e91917f2723c"
      },
      "outputs": [
        {
          "output_type": "stream",
          "name": "stdout",
          "text": [
            "ポチがワン！と吠えます。\n",
            "シロがワン！と吠えます。\n",
            "ポチは骨が好きです。\n",
            "シロはリンゴが好きです。\n"
          ]
        }
      ],
      "source": [
        "# Dogクラスの定義(favorite属性とlikeメソッドを追加してください)\n",
        "class Dog:\n",
        "    def __init__(self, name, age,favorite):\n",
        "        self.name = name\n",
        "        self.age = age\n",
        "        self.favorite = favorite\n",
        "\n",
        "    def bark(self):\n",
        "        print(f\"{self.name}がワン！と吠えます。\")\n",
        "\n",
        "    def like(self):\n",
        "        print(f\"{self.name}は{self.favorite}が好きです。\")\n",
        "\n",
        "# Dogクラスのインスタンスを作成 (適切な初期化を行ってください)\n",
        "pochi = Dog(\"ポチ\", 3,\"骨\")\n",
        "shiro = Dog(\"シロ\", 5,\"リンゴ\")\n",
        "\n",
        "# インスタンスのメソッドを呼び出す\n",
        "pochi.bark()  # 出力: ポチがワン！と吠えます。\n",
        "shiro.bark()  # 出力: シロがワン！と吠えます。\n",
        "\n",
        "# 以下で実装したlikeメソッドを呼び出してください\n",
        "pochi.like()  # 出力: ポチは骨がすきです。\n",
        "shiro.like()  # 出力: シロはリンゴが好きです。"
      ]
    },
    {
      "cell_type": "code",
      "source": [],
      "metadata": {
        "id": "bZzWEjdGYilf"
      },
      "execution_count": null,
      "outputs": []
    }
  ]
}